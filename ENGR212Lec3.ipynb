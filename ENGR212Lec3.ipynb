{
 "cells": [
  {
   "cell_type": "markdown",
   "metadata": {},
   "source": [
    "## ENGR 212 Lecture Notes\n",
    "\n",
    "### Lecture 3\n",
    "#### Sections 13.7 - 13.8 in Bedford/Fowler"
   ]
  },
  {
   "cell_type": "markdown",
   "metadata": {},
   "source": [
    "### Generalized Motion (Curvilinear) - Polar Coords:\n",
    "#### 13.7\n",
    "\n",
    "#### Concept Review:\n",
    "\n",
    "When we use a cartesian coordinate system to describe the path of an object the unit vectors are constant. All the information about the movement of the object is contained in the functions that describe the magnitudes of each component. This coordinate system is independent of the path of the object and ALL the unit vectors are constant in direction.\n",
    "\n",
    "In the $\\hat{e}_n$ and $\\hat{e}_t$ system we consider that motion from the perspective of normal and tangential unit vectors which potentially change direction as they follow the path of the object. An important feature of the n/t coordinate system is that the instantaneous velocity is always in the direction of $\\hat{e}_t$ because of the way this coordinate system is structured. Both unit vectors are defined by the path of the object and are NOT necessarily constant in direction.\n",
    "\n",
    "Now we consider the polar coordinate system where the unit vectors are independent of the path and NOT constant in direction. We will discuss later what might suggest how we choose among these coordinate systems in addressing a proble. \n",
    "\n",
    "#### Polar Coordinates and the Path:\n",
    "\n",
    "As we approach the description of motion in a polar coordinate system be sure to clarify in your mind the relationship between the path of the particle and the unit vectors. Many images you may find in various resources don't make this explicit. I like the image below because is clear about this relationship.\n",
    "\n",
    "<img src=\"https://raw.githubusercontent.com/smithrockmaker/ENGR212/master/images/polarstack.png\" />\n",
    "\n",
    "thanks to [frobenius](https://physics.stackexchange.com/users/227119/frobenius) on physics.stackexchange for this image.  \n",
    "\n",
    "Notice that the velocity vector is tangent to the path, the blue line, of the particle and we could describe it as $\\bar{v} = v \\hat{e}_t$. In the coordinate system with unit vectors $\\hat{e}_r$ and $\\hat{e}_{\\theta}$ the velocity vector will have components in both directions.\n",
    "\n",
    "$$\\large \\bar{r} = r\\hat{e}_r$$\n",
    "\n",
    "Think about this for a moment. In math class we think of the location of a point in space in polar coordinates as being characterized by two values (r,$\\theta$) and yet here the location of the particle is described with just $\\bar{r} = r\\hat{e}_r$. There is NO component of $\\bar{r}$ in the $\\hat{e}_{\\theta}$ direction!! Part of the conceptual challenge here is that we have spend so much of our time, to this point, in the cartesian coordinate system, that our intuition is based on unit vectors that never change direction.\n",
    "\n",
    "$$\\large \\bar{v} = \\frac{d\\bar{r}}{dt} = \\frac{dr}{dt}\\hat{e}_r+ r \\frac{d\\hat{e}_r}{dt}$$\n",
    "\n",
    "In exact analogy to our previous discussions of the rate of change of $\\hat{e}_t$ we get...\n",
    "\n",
    "$$\\large \\frac{d\\hat{e}_r}{dt} = \\omega \\hat{e}_{\\theta}$$\n",
    "\n",
    "When we put this all together we get....\n",
    "\n",
    "$$\\large \\bar{v}_{polar} = \\frac{dr}{dt}\\hat{e}_r+ r \\omega \\hat{e}_{\\theta}$$\n",
    "\n",
    "...which hopefully makes sense when you thing about the components of the red velocity vector relative to the unit vectors.\n",
    "\n",
    "To get an expression describing the acceleration of the object we repeat the saem process taking the derivative with respect to time of the velocity expression which will give us 4 (!!!) terms. I include all the steps here for completeness but you can focus on the final expression for the acceleration.\n",
    "\n",
    "$$\\large \\bar{a} = \\frac{d\\bar{v}}{dt} = \\frac{d}{dt}(\\frac{dr}{dt}\\hat{e}_r)+ \\frac{d}{dt}(r \\omega \\hat{e}_{\\theta})$$\n",
    "\n",
    "Separating into two parts.....\n",
    "\n",
    "$$\\large \\frac{d}{dt}(\\frac{dr}{dt}\\hat{e}_r) = \\frac{d^2r}{dt^2}\\hat{e}_r + \\frac{dr}{dt}\\frac{d\\hat{e}_r}{dt} = \\frac{d^2r}{dt^2}\\hat{e}_r+ \\frac{dr}{dt}\\frac{d\\theta}{dt}\\hat{e}_{\\theta}$$\n",
    "\n",
    "....and (3 terms in product rule) ...\n",
    "\n",
    "$$\\large \\frac{d}{dt}(r \\omega \\hat{e}_{\\theta}) = \\frac{dr}{dt}\\omega \\hat{e}_{\\theta} + r \\frac{d\\omega}{dt}\\hat{e}_{\\theta} +  r \\omega \\frac{d\\hat{e}_{\\theta}}{dt}$$\n",
    "\n",
    "...where we note that..\n",
    "\n",
    "$$\\large \\frac{d\\omega}{dt} = \\frac{d^2\\theta}{dt^2} = \\alpha $$\n",
    "\n",
    "..and...\n",
    "\n",
    "$$\\large  \\frac{d\\hat{e}_{\\theta}}{dt} = \\frac{d\\theta}{dt}(-\\hat{e}_r)= -\\frac{d\\theta}{dt} \\hat{e}_r $$\n",
    "\n",
    "\n",
    "Pulling this all together and collecting terms we get...\n",
    "\n",
    "$$\\large \\bar{a} = [\\frac{d^2r}{dt^2} - r\\:(\\frac{d\\theta}{dt})^2]\\hat{e}_r + [r\\frac{d^2\\theta}{dt^2} + 2\\frac{dr}{dt}\\frac{d\\theta}{dt}]\\hat{e}_{\\theta}$$\n",
    "\n",
    "Written more simply this is...\n",
    "\n",
    "$$\\large \\bar{a} = a_r\\hat{e}_r +a_{\\theta}\\hat{e}_{\\theta}$$\n",
    "\n",
    "...where\n",
    "\n",
    "$$\\large \\bar{a}_r = \\frac{d^2r}{dt^2} - r\\:(\\frac{d\\theta}{dt})^2 = \\frac{d^2r}{dt^2} +r\\omega^2$$\n",
    "\n",
    "...and...\n",
    "\n",
    "$$\\large \\bar{a}_{\\theta}= r\\frac{d^2\\theta}{dt^2} + 2\\frac{dr}{dt}\\frac{d\\theta}{dt} = r\\alpha + 2\\frac{dr}{dt}\\omega$$\n",
    "\n",
    "\n"
   ]
  },
  {
   "cell_type": "markdown",
   "metadata": {},
   "source": [
    "#### Special Case: Circular Motion (polar coordinates)\n",
    "\n",
    "In the special case of circular motion $\\frac{dr}{dt} = 0$ which means some of the terms in the kinematic variables disappear. These results look essentially identical to circular motion expressed in normal and tangential variables as they should. In the case of circular motion $\\hat{e}_r = - \\hat{e}_n $ and $\\hat{e}_{\\theta} =  \\hat{e}_t $. Our previous expressions simplify to \n",
    "\n",
    "$$ \\large \\bar{r} = r\\: \\hat{e}_r$$\n",
    "\n",
    "$$\\large \\bar{v}_{circular} = r\\: \\omega \\: \\hat{e}_{\\theta}$$\n",
    "\n",
    "$$\\large \\bar{a}_{circular} = - r\\: \\omega^2\\: \\hat{e}_r + r\\: \\alpha\\: \\hat{e}_{\\theta}$$"
   ]
  },
  {
   "cell_type": "markdown",
   "metadata": {},
   "source": [
    "### Generalized Motion (Curvilinear) - Cylindrical Coords\n",
    "\n",
    "Cylindrical coordinates are just a mashup of polar coordinates and a single cartesian axis in, typically, the z direction. We merely have to add a z term to everything. Here is what each kinematic variable looks like. No surprises. \n",
    "\n",
    "$$ \\large \\bar{r} = r\\: \\hat{e}_r + z\\: \\hat{e}_z $$\n",
    "\n",
    "$$\\large \\bar{v}_{cylindrical} = \\frac{dr}{dt}\\hat{e}_r+ r \\omega \\hat{e}_{\\theta} + \\frac{dz}{dt} \\: \\hat{e}_z$$\n",
    "\n",
    "$$\\large \\bar{a}_{cylindrical} = [\\frac{d^2r}{dt^2} - r\\: \\omega^2]\\hat{e}_r + [r\\: \\alpha + 2\\frac{dr}{dt}\\omega]\\hat{e}_{\\theta} + \\frac{d^2z}{dt^2} \\: \\hat{e}_z$$\n",
    "\n",
    "The most common circumstance where we will use cylindrical coordinates is when the motion is circular combined with a z motion. Helical motion it might be called. The movement of the point on a propeller as it drives the ship forward fits this description. In this special case (much like circular motion in polar coordinates above) $\\frac{dr}{dt} = 0$ and our equations reduce to....\n",
    "\n",
    "#### Helical:\n",
    "\n",
    "$$ \\large \\bar{r} = r\\: \\hat{e}_r + z\\: \\hat{e}_z $$\n",
    "\n",
    "$$\\large \\bar{v}_{cylindrical} = r\\: \\omega \\hat{e}_{\\theta} + \\frac{dz}{dt} \\: \\hat{e}_z$$\n",
    "\n",
    "$$\\large \\bar{a}_{cylindrical} = - r\\: \\omega^2\\: \\hat{e}_r + r\\: \\alpha\\: \\hat{e}_{\\theta} + \\frac{d^2z}{dt^2} \\: \\hat{e}_z$$"
   ]
  },
  {
   "cell_type": "markdown",
   "metadata": {},
   "source": [
    "***\n",
    "### Sample Problem: Curvilinear (Polar)\n",
    "\n",
    "Still to come....\n",
    "***"
   ]
  },
  {
   "cell_type": "markdown",
   "metadata": {},
   "source": [
    "***\n",
    "### Sample Problem: Curvilinear (Polar)\n",
    "\n",
    "Still to come....\n",
    "***"
   ]
  },
  {
   "cell_type": "markdown",
   "metadata": {},
   "source": [
    "***\n",
    "### Sample Problem: Curvilinear (Cylindrical)\n",
    "\n",
    "Still to come....\n",
    "***"
   ]
  },
  {
   "cell_type": "markdown",
   "metadata": {},
   "source": [
    "### Relative Motion:\n",
    "\n",
    "<img src=\"https://raw.githubusercontent.com/smithrockmaker/ENGR212/master/images/relativeVectors.png\" />\n",
    "\n",
    "many thanks to the Engineering Dept at the [Universidade do Porto](https://def.fe.up.pt/index.html) in Portugal for the use of this helpful image"
   ]
  }
 ],
 "metadata": {
  "kernelspec": {
   "display_name": "Python 3",
   "language": "python",
   "name": "python3"
  },
  "language_info": {
   "codemirror_mode": {
    "name": "ipython",
    "version": 3
   },
   "file_extension": ".py",
   "mimetype": "text/x-python",
   "name": "python",
   "nbconvert_exporter": "python",
   "pygments_lexer": "ipython3",
   "version": "3.8.5"
  }
 },
 "nbformat": 4,
 "nbformat_minor": 4
}
