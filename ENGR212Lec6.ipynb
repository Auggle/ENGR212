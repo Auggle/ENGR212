{
 "cells": [
  {
   "cell_type": "markdown",
   "metadata": {},
   "source": [
    "## ENGR 212 Lecture Notes\n",
    "\n",
    "### Lecture 6\n",
    "#### 14.3 - 14.4 in Bedford/Fowler\n",
    "\n",
    "On one hand it's very tempting to say \"Just do Newton's 2nd Law in any coordinate system to figure out the acceleration followed by CH 13 - kinematics to finish\" as if that was a reasonable and self evident thing. Perhaps someday you will think this is obvious but probably not yet. \n",
    "\n",
    "What I do hope you are comfortable with is the idea that once we identify the forces acting on an object you can find the components of those forces in **ANY** coordinate system that you might choose. In calc physics we typically stick to the Cartesian coordinate system because it's familiar and, as we now know, the unit vectors have no potential time dependent behavior. In these sections we're going to explore examples of Newton's Laws applied in contexts where we can use normal and tangential coordinates or polar coordinates to represent the Forces. This is what we are doing and all that changes is the coordinate system with which we describe the forces.\n",
    "\n",
    ".$$\\large F_{net} = \\sum_{i} F_i = m\\bar{a}_{cm} $$\n"
   ]
  },
  {
   "cell_type": "markdown",
   "metadata": {},
   "source": []
  },
  {
   "cell_type": "markdown",
   "metadata": {},
   "source": [
    "***\n",
    "### Sample Problem: normal/tangential\n",
    "\n",
    ">The disc is rotating in the horizontal plane at a constant angular velocity of 4 rad/s. The sides of the slot are 'smooth' and the string is aligned with the slot. Determine tension in the string as well as the direction and magnitude of the force on the slider ($m_{slider} = .5\\:$ kg) from the side of the slot.\n",
    "\n",
    "<img src=\"https://raw.githubusercontent.com/smithrockmaker/ENGR212/master/images/Sample6-1.png\" />\n",
    "\n",
    "[Solution](https://github.com/smithrockmaker/ENGR212/blob/main/documents/SampleProb6-1.pdf)\n",
    "***"
   ]
  },
  {
   "cell_type": "markdown",
   "metadata": {},
   "source": [
    "***\n",
    "### Sample Problem: normal/tangential\n",
    "\n",
    ">The mass is attached to a string which wraps around a pole which has a constant radius (like a tether ball pole). Initially the ball has a velocity of $v_0$. Assume the process is taking place in the horizontal plane so gravity or friction play no role. Find $\\theta (t)$.  \n",
    "\n",
    "<img src=\"https://raw.githubusercontent.com/smithrockmaker/ENGR212/master/images/Sample6-4.png\" />\n",
    "\n",
    "[Solution](https://github.com/smithrockmaker/ENGR212/blob/main/documents/SampleProb6-2.pdf)\n",
    "***"
   ]
  },
  {
   "cell_type": "markdown",
   "metadata": {},
   "source": [
    "***\n",
    "### Sample Problem: polar\n",
    "\n",
    ">A 2 kg mass rests of a flat horizontal bar. The bar rotates in the vertical plane (gravity is a factor) with a constant angular acceleration of $\\alpha = 1\\: rad/s^2$. The mass starts slipping when the bar is $30^{\\circ}$ above the initial orientation. What is the static coefficient of friction and which way does the mass slip?\n",
    "\n",
    "<img src=\"https://raw.githubusercontent.com/smithrockmaker/ENGR212/master/images/Sample6-3.png\" />\n",
    "\n",
    "[Solution](https://github.com/smithrockmaker/ENGR212/blob/main/documents/SampleProb6-3.pdf)\n",
    "***"
   ]
  },
  {
   "cell_type": "markdown",
   "metadata": {},
   "source": [
    "***\n",
    "### Sample Problem: polar\n",
    "\n",
    ">The 110 g slider is pushed along the circular bar because it is captured in the rotating slotted bar. The apparatus is oriented in the vertical plane. The position of the slotted bar is given by $\\theta = 10 t^2$ rad. What are the polar components of the force on the slider due to the two bars?\n",
    "\n",
    "<img src=\"https://raw.githubusercontent.com/smithrockmaker/ENGR212/master/images/Sample6-2.png\" />\n",
    "\n",
    "[Solution](https://github.com/smithrockmaker/ENGR212/blob/main/documents/Sample6-4.pdf)\n",
    "***"
   ]
  },
  {
   "cell_type": "markdown",
   "metadata": {},
   "source": []
  }
 ],
 "metadata": {
  "kernelspec": {
   "display_name": "Python 3",
   "language": "python",
   "name": "python3"
  },
  "language_info": {
   "codemirror_mode": {
    "name": "ipython",
    "version": 3
   },
   "file_extension": ".py",
   "mimetype": "text/x-python",
   "name": "python",
   "nbconvert_exporter": "python",
   "pygments_lexer": "ipython3",
   "version": "3.8.5"
  }
 },
 "nbformat": 4,
 "nbformat_minor": 4
}
