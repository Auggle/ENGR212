{
 "cells": [
  {
   "cell_type": "markdown",
   "metadata": {},
   "source": [
    "## ENGR 212 Lecture Notes\n",
    "\n",
    "### Lecture 6\n",
    "#### 14.3 - 14.4 in Bedford/Fowler\n",
    "\n",
    "On one hand it's very tempting to say \"Just do Newton's 2nd Law in any coordinate system to figure out the acceleration followed by CH 13 - kinematics to finish\" as if that was a reasonable and self evident thing. Perhaps someday you will think this is obvious but probably not yet. \n",
    "\n",
    "What I do hope you are comfortable with is the idea that once we identify the forces acting on an object you can find the components of those forces in **ANY** coordinate system that you might choose. In calc physics we typically stick to the Cartesian coordinate system because it's familiar and, as we now know, the unit vectors have no potential time dependent behavior. In these sections we're going to explore examples of Newton's Laws applied in contexts where we can use normal and tangential coordinates or polar coordinates to represent the Forces. This is what we are doing and all that changes is the coordinate system with which we describe the forces.\n",
    "\n",
    ".$$\\large F_{net} = \\sum_{i} F_i = m\\bar{a}_{cm} $$\n"
   ]
  },
  {
   "cell_type": "markdown",
   "metadata": {},
   "source": []
  },
  {
   "cell_type": "markdown",
   "metadata": {},
   "source": [
    "***\n",
    "### Sample Problem: normal/tangential\n",
    "\n",
    ">The crate on the ramp has a mass of 120 kg and the coefficients of friction between the crate and the ramp are $\\mu_s = 0.6$ and $\\mu_k=0.4$ respectively. What is the cable tension needed to start moving the crate and how fast will the crate be moving when it is 2 m up the ramp. Assume the tension is constant once the crate starts moving.\n",
    "\n",
    "<img src=\"https://raw.githubusercontent.com/smithrockmaker/ENGR212/master/images/Sample6-1.png\" />\n",
    "\n",
    "[Solution](https://github.com/smithrockmaker/ENGR212/blob/main/documents/SampleProb6-1.pdf)\n",
    "***"
   ]
  },
  {
   "cell_type": "markdown",
   "metadata": {},
   "source": [
    "do 14.104 as sample problem and possibly 106"
   ]
  }
 ],
 "metadata": {
  "kernelspec": {
   "display_name": "Python 3",
   "language": "python",
   "name": "python3"
  },
  "language_info": {
   "codemirror_mode": {
    "name": "ipython",
    "version": 3
   },
   "file_extension": ".py",
   "mimetype": "text/x-python",
   "name": "python",
   "nbconvert_exporter": "python",
   "pygments_lexer": "ipython3",
   "version": "3.8.5"
  }
 },
 "nbformat": 4,
 "nbformat_minor": 4
}
