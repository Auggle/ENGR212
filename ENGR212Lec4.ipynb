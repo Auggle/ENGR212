{
 "cells": [
  {
   "cell_type": "markdown",
   "metadata": {},
   "source": [
    "## ENGR 212 Lecture Notes\n",
    "\n",
    "### Lecture 4\n",
    "#### Sections 14.1 - 14.2 in Bedford/Fowler"
   ]
  },
  {
   "cell_type": "markdown",
   "metadata": {},
   "source": [
    "### Newton's 2nd Law: Center of Mass\n",
    "#### 14.1\n",
    "\n",
    "#### Concept Review:\n",
    "\n",
    "When we learned about Newton's Laws in physics we started by treating every object as a single point. We probably mentioned that, if we were careful, this point should be located at the center of mass. We rarely talked about this consideration after that. Because we will be looking at more complex behavior in this class we need to be explicit about the meaning of the center of mass as well as it's motion relative to that center of mass. \n",
    "\n",
    "#### The Center of Mass:\n",
    "\n",
    "Conceptually it is just the balance point of the object. In 1D we have a pretty good intuitive sense of how it works. That intuitive sense gets less secure as we move to 2D and 3D. In 1D the balance point can be determined like this\n",
    "\n",
    "$$\\large x_{cm} = \\frac{\\sum\\limits_{i} x_i m_i}{\\sum\\limits_{i}m_i}$$\n",
    "\n",
    "The $x_i\\: m_i$ terms mean that masses further from the balance point have more effect on the location of the center of mass as you would expect. We can extend this exact idea to arbitrary geometries as\n",
    "\n",
    "$$\\large \\bar{r}_{cm} = \\frac{\\sum\\limits_{i} m_i\\: \\bar{r}_i}{\\sum\\limits_{i}m_i = m_{total}} = \\frac{\\sum\\limits_{i} m_i\\: \\bar{r}_i}{m}$$\n",
    "\n",
    "If we take the second derivative with respect to time of all the individual masses the resulting expression is the same as the second derivative of the center of mass of the system. Because of Newton's 3rd Law **AND** our assumption that we are dealing with rigid bodies any forces acting on any point of the rigid body is effectively acting on the center of mass. \n",
    "\n"
   ]
  },
  {
   "cell_type": "markdown",
   "metadata": {},
   "source": [
    "***\n",
    "### Sample Problem: Curvilinear (Polar)\n",
    "\n",
    ">A boat searching the sea bottom for mineral deposits follows a spiral path where $r = 10\\:\\theta \\: m$ where $\\theta$ is measured in radians. The velocity of the boat is 2.0 m/s (searching is slow). Determine the velocity of the boat in polar coordinates (magnitude AND components) when $\\theta = 2 \\pi \\: rad$.\n",
    "\n",
    "<img src=\"https://raw.githubusercontent.com/smithrockmaker/ENGR212/master/images/searchPattern.png\" />\n",
    "\n",
    "[Solution](https://github.com/smithrockmaker/ENGR212/blob/main/documents/SampleProb3-1.pdf)\n",
    "***"
   ]
  },
  {
   "cell_type": "code",
   "execution_count": null,
   "metadata": {},
   "outputs": [],
   "source": []
  }
 ],
 "metadata": {
  "kernelspec": {
   "display_name": "Python 3",
   "language": "python",
   "name": "python3"
  },
  "language_info": {
   "codemirror_mode": {
    "name": "ipython",
    "version": 3
   },
   "file_extension": ".py",
   "mimetype": "text/x-python",
   "name": "python",
   "nbconvert_exporter": "python",
   "pygments_lexer": "ipython3",
   "version": "3.8.5"
  }
 },
 "nbformat": 4,
 "nbformat_minor": 4
}
