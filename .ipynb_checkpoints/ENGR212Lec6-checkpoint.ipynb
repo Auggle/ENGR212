{
 "cells": [
  {
   "cell_type": "markdown",
   "metadata": {},
   "source": [
    "## ENGR 212 Lecture Notes\n",
    "\n",
    "### Lecture 6\n",
    "#### 14.3 - 14.4 in Bedford/Fowler\n",
    "\n",
    "On one hand it's very tempting to say \"Just do Newton's 2nd Law in any coordinate system to figure out the acceleration followed by CH 13 - kinematics to finish\" as if that was a reasonable and self evident thing. Perhaps someday you will think this is obvious but probably not yet. \n",
    "\n",
    "What I do hope you are comfortable with is the idea that once we identify the forces acting on an object you can find the components of those forces in **ANY** coordinate system that you might choose. In calc physics we typically stick to the Cartesian coordinate system because it's familiar and, as we now know, the unit vectors have no potential time dependent behavior. In these sections we're going to explore examples of Newton's Laws applied in contexts where we can use normal and tangential coordinates or "
   ]
  },
  {
   "cell_type": "markdown",
   "metadata": {},
   "source": []
  },
  {
   "cell_type": "code",
   "execution_count": null,
   "metadata": {},
   "outputs": [],
   "source": []
  },
  {
   "cell_type": "markdown",
   "metadata": {},
   "source": [
    "do 14.104 as sample problem and possibly 106"
   ]
  }
 ],
 "metadata": {
  "kernelspec": {
   "display_name": "Python 3",
   "language": "python",
   "name": "python3"
  },
  "language_info": {
   "codemirror_mode": {
    "name": "ipython",
    "version": 3
   },
   "file_extension": ".py",
   "mimetype": "text/x-python",
   "name": "python",
   "nbconvert_exporter": "python",
   "pygments_lexer": "ipython3",
   "version": "3.8.5"
  }
 },
 "nbformat": 4,
 "nbformat_minor": 4
}
