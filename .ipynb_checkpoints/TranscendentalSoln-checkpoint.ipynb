{
 "cells": [
  {
   "cell_type": "markdown",
   "metadata": {},
   "source": [
    "# Transcendental Solutions\n",
    "## ENGR 212 COCC\n",
    "### Bruce Emerson 1/5/2021\n",
    "\n",
    "This notebook is meant to provide a basic tool for solving mathematical problems where analytic solutions are difficult or impossible. Some of these are called transcendental equations and can only be solved by seeking the intersection of two graphs. Sometimes the graphical solution is just simpler. \n",
    "\n",
    "This notebook intends to allow plotting of two functions in a controllable window to find the intersection to a desired level of precision.\n",
    "\n"
   ]
  },
  {
   "cell_type": "markdown",
   "metadata": {},
   "source": [
    "### Dependencies\n",
    "\n",
    "The usual...."
   ]
  },
  {
   "cell_type": "code",
   "execution_count": 1,
   "metadata": {},
   "outputs": [],
   "source": [
    "import numpy as np\n",
    "import matplotlib.mlab as mlab\n",
    "import matplotlib.pyplot as plt\n"
   ]
  },
  {
   "cell_type": "markdown",
   "metadata": {},
   "source": [
    "### Function 1 and 2\n",
    "\n",
    "I will define a funcL and funcR to indicate the left and right side of the equation I am looking to solve.\n",
    "\n",
    "For my original example I will use \n",
    "\n",
    "funcL = $x - 1.33 x^3$\n",
    "\n",
    "funcR = $-.2x - 1.2$"
   ]
  },
  {
   "cell_type": "code",
   "execution_count": 7,
   "metadata": {},
   "outputs": [],
   "source": [
    "# independent variable -- choose lower and upper limits of range and number of points.\n",
    "varInd = np.linspace(1.,2.,100)\n",
    "\n",
    "# generate funcL values from independent variable\n",
    "funcL = varInd - 1.33* varInd**3\n",
    "\n",
    "# generate funcR values from independent variable\n",
    "funcR = -.2*varInd - 1.2\n"
   ]
  },
  {
   "cell_type": "markdown",
   "metadata": {},
   "source": [
    "### Plot\n",
    "\n",
    "Initially just make the plot with wide ranges to see where the intersection point is roughly. Then adjust the x and y limits to zoom in on the region of interest to whatever level you desire.\n"
   ]
  },
  {
   "cell_type": "code",
   "execution_count": 12,
   "metadata": {},
   "outputs": [
    {
     "ename": "AttributeError",
     "evalue": "module 'matplotlib.pyplot' has no attribute 'save'",
     "output_type": "error",
     "traceback": [
      "\u001b[0;31m---------------------------------------------------------------------------\u001b[0m",
      "\u001b[0;31mAttributeError\u001b[0m                            Traceback (most recent call last)",
      "\u001b[0;32m<ipython-input-12-50bcc04a844f>\u001b[0m in \u001b[0;36m<module>\u001b[0;34m\u001b[0m\n\u001b[1;32m     15\u001b[0m \u001b[0mplt\u001b[0m\u001b[0;34m.\u001b[0m\u001b[0mlegend\u001b[0m\u001b[0;34m(\u001b[0m\u001b[0mloc\u001b[0m\u001b[0;34m=\u001b[0m \u001b[0;36m4\u001b[0m\u001b[0;34m)\u001b[0m\u001b[0;34m\u001b[0m\u001b[0;34m\u001b[0m\u001b[0m\n\u001b[1;32m     16\u001b[0m \u001b[0;31m# save plot if desired\u001b[0m\u001b[0;34m\u001b[0m\u001b[0;34m\u001b[0m\u001b[0;34m\u001b[0m\u001b[0m\n\u001b[0;32m---> 17\u001b[0;31m \u001b[0mplt\u001b[0m\u001b[0;34m.\u001b[0m\u001b[0msave\u001b[0m\u001b[0;34m(\u001b[0m\u001b[0;34m'images/intersect.png'\u001b[0m\u001b[0;34m)\u001b[0m\u001b[0;34m\u001b[0m\u001b[0;34m\u001b[0m\u001b[0m\n\u001b[0m\u001b[1;32m     18\u001b[0m \u001b[0mplt\u001b[0m\u001b[0;34m.\u001b[0m\u001b[0mshow\u001b[0m\u001b[0;34m(\u001b[0m\u001b[0;34m)\u001b[0m\u001b[0;34m\u001b[0m\u001b[0;34m\u001b[0m\u001b[0m\n",
      "\u001b[0;31mAttributeError\u001b[0m: module 'matplotlib.pyplot' has no attribute 'save'"
     ]
    },
    {
     "data": {
      "image/png": "[encoded data removed]",
      "text/plain": [
       "<Figure size 576x432 with 1 Axes>"
      ]
     },
     "metadata": {
      "needs_background": "light"
     },
     "output_type": "display_data"
    }
   ],
   "source": [
    "fig2, ax2 = plt.subplots()\n",
    "\n",
    "ax2.plot(varInd, funcL, color = 'green', linestyle = '-', linewidth = 2., label = \"left\")\n",
    "ax2.plot(varInd, funcR, color = 'red', linestyle = '-', linewidth = 1., label = \"right\")\n",
    "\n",
    "# choose limits of display (doesn't need to match range of independent variable)\n",
    "ax2.set_xlim([1.2, 1.4])\n",
    "ax2.set_ylim([-1.6, -1.4])\n",
    "\n",
    "# labels\n",
    "ax2.set(xlabel='independent variable', ylabel='f(x)',\n",
    "       title='Seeking the intersection')\n",
    "ax2.grid()\n",
    "fig2.set_size_inches(8, 6)\n",
    "plt.legend(loc= 4)\n",
    "# save plot if desired\n",
    "plt.savefig('images/intersect.png')\n",
    "plt.show()"
   ]
  },
  {
   "cell_type": "code",
   "execution_count": null,
   "metadata": {},
   "outputs": [],
   "source": []
  }
 ],
 "metadata": {
  "kernelspec": {
   "display_name": "Python 3",
   "language": "python",
   "name": "python3"
  },
  "language_info": {
   "codemirror_mode": {
    "name": "ipython",
    "version": 3
   },
   "file_extension": ".py",
   "mimetype": "text/x-python",
   "name": "python",
   "nbconvert_exporter": "python",
   "pygments_lexer": "ipython3",
   "version": "3.8.5"
  }
 },
 "nbformat": 4,
 "nbformat_minor": 4
}
