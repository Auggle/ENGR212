{
 "cells": [
  {
   "cell_type": "markdown",
   "metadata": {},
   "source": [
    "## ENGR 212 Lecture Notes\n",
    "\n",
    "### Lecture 1\n",
    "#### Sections 13.1 - 13.3 in Bedford/Fowler"
   ]
  },
  {
   "cell_type": "markdown",
   "metadata": {},
   "source": [
    "### Position, Velocity, Acceleration\n",
    "\n",
    "#### Position: **$\\vec{r}$**  \n",
    "\n",
    "In this class we use a generalized **$\\vec{r}$** vector to describe the position of a point like object. The thing to notice is that the use of **$\\vec{r}$** does **NOT** imply that we are working in spherical coordinates as we might if we are in math class. In addition **$\\vec{r}$** may depend on any one of a number of variables. This is a step in a new direction from our previous classes where we always parameterized the position using time (t). It is certainly true that we will often know **$\\vec{r}$** as a function of time but don't be misled into thinking that this is universal.\n",
    "\n",
    "#### Velocity: $\\vec{v} = \\frac{d\\vec{r}}{dt}$\n",
    "\n",
    "Regardless of what the dependence of **$\\vec{r}$** is velocity is defined as the rate of change with respect to time. How this is accomplished can involve product rules, chain rules, or implicit differentiation using tools from MTH 251. As an example:\n",
    "\n",
    "$$ \\frac{d\\vec{r}(s)}{dt} = \\frac{d\\vec{r}(s)}{ds}\\frac{ds}{dt}$$\n",
    "\n",
    "Because **$\\vec{r}$** is a vector we may well have to consider the rate of change of the unit vectors embedded in **$\\vec{r}$** along the way. We'll get to this a bit later.\n",
    "\n",
    "It is important to note that because $\\vec{\\Delta r} = \\vec{r_2} - \\vec{r_1}$ we need not be concerned with where we pick the origin of our coordinate system or even which coordinate system we use. The differences between 2 vectors are independent of the choice of coordinate system. This means neither the velocity nor the acceleration depend on the coordinate system. \n",
    "\n",
    "**Note:** Later we will consider dynamic behavior in different coordinate systems where we will see different velocity and acceleration terms depending on the choice coordinate system. This is not a violation of what I just stated but rather a consequence of seeking to apply Newton's Laws in a coordinate system that doesn't not satisfy Newton's First Law. We'll talk more about this when we get to that point.\n",
    "\n",
    "#### Acceleration: $\\vec{a} = \\frac{d^2\\vec{r}}{dt^2} = \\frac{d\\vec{v}}{dt}$\n",
    "\n",
    "Nothing new here but all the same caveats apply that I noted in the discussion of the velocity."
   ]
  },
  {
   "cell_type": "markdown",
   "metadata": {},
   "source": [
    "### Graphical Representation"
   ]
  },
  {
   "cell_type": "markdown",
   "metadata": {},
   "source": [
    "### Generalized Motion:"
   ]
  },
  {
   "cell_type": "markdown",
   "metadata": {},
   "source": []
  },
  {
   "cell_type": "code",
   "execution_count": null,
   "metadata": {},
   "outputs": [],
   "source": []
  }
 ],
 "metadata": {
  "kernelspec": {
   "display_name": "Python 3",
   "language": "python",
   "name": "python3"
  },
  "language_info": {
   "codemirror_mode": {
    "name": "ipython",
    "version": 3
   },
   "file_extension": ".py",
   "mimetype": "text/x-python",
   "name": "python",
   "nbconvert_exporter": "python",
   "pygments_lexer": "ipython3",
   "version": "3.8.5"
  }
 },
 "nbformat": 4,
 "nbformat_minor": 4
}
