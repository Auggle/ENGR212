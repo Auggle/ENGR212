{
 "cells": [
  {
   "cell_type": "markdown",
   "metadata": {},
   "source": [
    "## ENGR 212 Lecture Notes\n",
    "\n",
    "### Lecture 2\n",
    "#### Sections 13.4 - 13.6 in Bedford/Fowler"
   ]
  },
  {
   "cell_type": "markdown",
   "metadata": {},
   "source": [
    "### Generalized Motion (Curvilinear) - Cartesian Coords:\n",
    "#### 13.4\n",
    "\n",
    "#### Core Concept:\n",
    "\n",
    "If we now express our generalized position vector $\\vec{r}$ in Cartesian coordinates we get....\n",
    "\n",
    "$$ \\bar{r} = x\\hat{i} + y\\hat{j} + z\\hat{k} $$\n",
    "\n",
    "where $\\hat{i}, \\: \\hat{j},\\: \\hat{k}$ are the traditional representations of the unit vectors in the Cartesian system. If we now differentiate thoughtfully we get...\n",
    "\n",
    "$$ \\bar{v} = \\frac{d\\bar{r}}{dt} = [\\frac{dx}{dt}\\hat{i}+ x\\frac{d\\hat{i}}{dt}] + [\\frac{dy}{dt}\\hat{j}+ y\\frac{d\\hat{j}}{dt}]+ ...$$\n",
    "\n",
    "In the Cartesian coordinate system the unit vectors always have the same magnitude and direction which means that $\\frac{d\\bar{i}}{dt}=0 , \\:\\frac{d\\bar{j}}{dt}=0$ and $\\frac{d\\bar{k}}{dt}=0$. I want to make this explicit here because there is a tendency to think of unit vectors as merely placeholders in the mathematical expression but they are actually legitimate mathematical entities that we must address like any other part of the mathematical expression. In this case the velocity can be simply expressed as...\n",
    "\n",
    "$$ \\bar{v} = \\frac{d\\bar{r}}{dt} = \\frac{dx}{dt}\\hat{i} + \\frac{dy}{dt}\\hat{j}+ \\frac{dz}{dt}\\hat{k}$$\n",
    "\n",
    "$$ \\bar{v} = v_x\\hat{i} + v_y\\hat{j}+ v_z\\hat{k}$$\n",
    "\n",
    "Applying the same process to find the acceleration we get...\n",
    "\n",
    "$$ \\bar{a} = \\frac{d\\bar{v}}{dt} = \\frac{dv_x}{dt}\\hat{i} + \\frac{dv_y}{dt}\\hat{j}+ \\frac{dv_z}{dt}\\hat{k}$$\n",
    "\n",
    "$$ \\bar{a} = a_x\\hat{i} + a_y\\hat{j}+ a_z\\hat{k}$$\n",
    "\n",
    "As a result any generalized motion in Cartesian coordinates is \"just\" the superposition of 3 straight line motions as we have discussed in section 13.3. Recognize that the information we have about any of the 9 variables (x,y,z,$v_x,v_y,v_z,a_x,a_y,a_z$) might depend on t, v, or s! Each of the three directions is mathematically independent though the specific circumstances of the problem setting may compel particular relationships between any of the variables. \n",
    "\n",
    "#### Example:\n",
    "\n",
    "Consider this image below. If the plane were to release a package at some point how would you determine where it lands on the slope? Given that $a_x = 0$ and $a_y = -9.8$ you can use our current tools to determine x(t) and y(t). The slope provides a constraint between x and y that is needed to find the point at which the package  hits the slope. This is just a conceptual example.\n",
    "\n",
    "<img src=\"https://useruploads.socratic.org/0AezRV8NRnCAAZ8AokgU_fly.jpg\" />"
   ]
  },
  {
   "cell_type": "markdown",
   "metadata": {},
   "source": [
    "### Angular Motion:\n",
    "#### 13.5\n",
    "\n",
    "As we move into angular motion we need to take a moment to be clear about variables. Angular position is typically labeled as $\\theta$. Angular velocity as $\\omega = \\frac{d\\theta}{dt}$ and angular acceleration as $\n",
    "\\alpha = \\frac{d\\omega}{dt} = \\frac{d^2\\theta}{dt^2}$. These kinematic variables have all the same relationships to each other that our linear variables do including potential for $\\alpha(\\omega)$ or $\\alpha(\\theta)$. These dependencies can lead to separation of variables and integration in some circumstances.\n",
    "\n",
    "We also have a well defined relationship between the linear and angular variables. From the definition of angles in radians we can see that $\\Delta s = \\rho \\Delta \\theta$ when a particle is traveling along an arc of whose radius of curvature is $\\rho$\n",
    "\n",
    "<img src=\"https://raw.githubusercontent.com/smithrockmaker/ENGR212/master/images/radiuscurvature.gif\" />\n",
    "\n",
    "\n",
    "Because so many objects of interest are rotating or moving along circular paths it is important to understand  the 'rate of change' of a unit vector due angular movement. In the image below $\\hat{u_t}$ and $\\hat{u_n}$ represent two unit vectors which we will eventually come to call tangential and normal. They could just as easily represent $\\hat{i}$ and $\\hat{j}$. \n",
    "\n",
    "<img src=\"https://raw.githubusercontent.com/smithrockmaker/ENGR212/master/images/unit_vector.png\" />\n",
    "(J Moore et al, Penn State, CC-BY-SA 4.0 International)\n",
    "\n",
    "When we seek to understand $\\frac{d\\hat{u_t}}{dt}$ we start by allowing the unit vector to rotate between some initial orientation and a final orientation after some time dt. $\\hat{u_t}$ has rotated an angle $d\\theta$ and $d\\bar{u_t} = |\\hat{u_t}_f - \\hat{u_t}_0|\\hat{u_n}$. Notice the diretion of $d\\bar{u_t}$ is aligned with $\\hat{u_n}$. If we express our angles in radians then the length of $d\\bar{u_t} = r_{u_t} d\\theta = d\\theta$ since $r_{u_t} = 1$ by definition. Since all of these changes take place over a time dt we arrive (avoiding any  limiting arguments for math class) with....\n",
    "\n",
    "$$ \\frac{d\\hat{u_t}}{dt} = \\frac{d\\theta}{dt}\\hat{u_n} = \\omega \\hat{u_n}$$\n",
    "\n",
    "**Note:** Depending on the author normal and tangential unit vectors are sometimes written as $\\hat{u_n}$ and $\\hat{u_t}$, or $\\hat{t}$ and $\\hat{n}$, or $\\hat{e_n}$ and $\\hat{e_t}$. Be alert and flexible. The 't' and 'n' are your clues!\n",
    "\n",
    "### Motion Around Single Axis:\n",
    "\n",
    "Angular motion around a single axis is the equivalent of straight line motion. Generally speaking most of the problems we will address will only be rotating in a single plane which is the same as rotating around a single axis. More general motion is possible around 3 axes of rotation but we'll save that for some time when we want to make your head hurt:) When there is rotation around a single axis remember the equivalency between linear and angular variables:\n",
    "\n",
    "$$ s \\longrightarrow \\theta$$\n",
    "$$ v \\longrightarrow \\omega$$\n",
    "$$ a \\longrightarrow \\alpha$$\n"
   ]
  },
  {
   "cell_type": "markdown",
   "metadata": {},
   "source": [
    "### Generalized Motion (Curvilinear) - Normal and Tangential Coordinates:\n",
    "#### 13.6\n",
    "\n",
    "Looking back at the plot of a generalized path through space (plot in Lec 1) you will hopefully notice that $d\\bar{r} = \\bar{r}_2 - \\bar{r}_1$ is a tiny vector aligned with the path of the particle. $d\\bar{r}$ is, in fact, tangent to the path. We could rewrite this as $d\\bar{r} = |d\\bar{r}|\\hat{e_t}$. Note that $|d\\bar{r}|= ds$ which is just the distance the object has traveled along the path between $\\bar{r}_1$ and $\\bar{r}_2$. Putting this all together we get....\n",
    "\n",
    "$$ \\bar{v} = \\frac{d\\bar{r}}{dt} = \\frac{|d\\bar{r}|\\hat{e_t}}{dt} = \\frac{ds}{dt}\\hat{e_t} = v\\hat{e_t}$$\n",
    "\n",
    "#### Planar Motion:\n",
    "\n",
    "All of what is stated above is true for generalized motion in 3D. We are going to simplify a little by assuming , for the time being, that our 'generalized motion' is restricted to a plane. This is equivalent to required any rotations to be around a single axis as discussed previously.\n",
    "\n",
    "Given that $\\bar{a} = \\frac{\\bar{v}}{dt}$ we can carefully follow apply the product rule to see that...\n",
    "\n",
    "$$\\bar{a} = \\frac{\\bar{v}}{dt} = \\frac{d}{dt}(v\\hat{e_t}) = \\frac{dv}{dt}\\hat{e_t}+ v\\frac{d\\hat{e_t}}{dt}$$\n"
   ]
  },
  {
   "cell_type": "code",
   "execution_count": null,
   "metadata": {},
   "outputs": [],
   "source": []
  }
 ],
 "metadata": {
  "kernelspec": {
   "display_name": "Python 3",
   "language": "python",
   "name": "python3"
  },
  "language_info": {
   "codemirror_mode": {
    "name": "ipython",
    "version": 3
   },
   "file_extension": ".py",
   "mimetype": "text/x-python",
   "name": "python",
   "nbconvert_exporter": "python",
   "pygments_lexer": "ipython3",
   "version": "3.8.5"
  }
 },
 "nbformat": 4,
 "nbformat_minor": 4
}
